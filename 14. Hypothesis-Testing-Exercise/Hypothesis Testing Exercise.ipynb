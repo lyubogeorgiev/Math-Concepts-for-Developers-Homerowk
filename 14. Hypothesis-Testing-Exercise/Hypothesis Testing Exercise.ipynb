{
 "cells": [
  {
   "cell_type": "code",
   "execution_count": 1,
   "metadata": {},
   "outputs": [],
   "source": [
    "%matplotlib inline"
   ]
  },
  {
   "cell_type": "code",
   "execution_count": 109,
   "metadata": {},
   "outputs": [],
   "source": [
    "import numpy as np\n",
    "import matplotlib.pyplot as plt\n",
    "import pandas as pd\n",
    "\n",
    "import statsmodels\n",
    "import statsmodels.api as sm\n",
    "from statsmodels.formula.api import ols\n",
    "\n",
    "from skimage.io import imread\n",
    "import scipy.ndimage\n",
    "# Write your imports here\n",
    "import scipy.stats as st\n",
    "from statsmodels.stats.anova import anova_lm"
   ]
  },
  {
   "cell_type": "markdown",
   "metadata": {},
   "source": [
    "# Hypothesis Testing Exercise\n",
    "## Comparing Distributions. Testing statistical hypotheses. p-value. Goodness of fit"
   ]
  },
  {
   "cell_type": "markdown",
   "metadata": {},
   "source": [
    "### Problem 1. t-test\n",
    "You're given a dataset which describes the age at death among members of the sovereignty, aristocracy, and gentry. There is an explanation [here](http://www.stat.ufl.edu/~winner/data/agedeath.txt) and the actual data is [here](http://www.stat.ufl.edu/~winner/data/agedeath.dat). Get to know the data; plot histograms and / or boxplots, or other graphs as needed. Note that all ages are only for a certain social class of people and they won't represent the entire population of people.\n",
    "\n",
    "Do the mean ages differ significantly ($\\alpha = 5\\%$)? Perform a t-test. Do you need an independent or paired test?"
   ]
  },
  {
   "cell_type": "code",
   "execution_count": 11,
   "metadata": {},
   "outputs": [],
   "source": [
    "age_at_death = pd.read_fwf(\"data/agedeath.dat\", header = None, index_col = 2)"
   ]
  },
  {
   "cell_type": "code",
   "execution_count": 12,
   "metadata": {},
   "outputs": [
    {
     "data": {
      "text/plain": [
       "(6186, 2)"
      ]
     },
     "execution_count": 12,
     "metadata": {},
     "output_type": "execute_result"
    }
   ],
   "source": [
    "age_at_death.shape"
   ]
  },
  {
   "cell_type": "code",
   "execution_count": 13,
   "metadata": {},
   "outputs": [
    {
     "data": {
      "text/plain": [
       "0    object\n",
       "1     int64\n",
       "dtype: object"
      ]
     },
     "execution_count": 13,
     "metadata": {},
     "output_type": "execute_result"
    }
   ],
   "source": [
    "age_at_death.dtypes"
   ]
  },
  {
   "cell_type": "code",
   "execution_count": 14,
   "metadata": {},
   "outputs": [],
   "source": [
    "age_at_death.columns = [\"category\", \"age\"]"
   ]
  },
  {
   "cell_type": "code",
   "execution_count": 15,
   "metadata": {},
   "outputs": [
    {
     "data": {
      "text/html": [
       "<div>\n",
       "<style scoped>\n",
       "    .dataframe tbody tr th:only-of-type {\n",
       "        vertical-align: middle;\n",
       "    }\n",
       "\n",
       "    .dataframe tbody tr th {\n",
       "        vertical-align: top;\n",
       "    }\n",
       "\n",
       "    .dataframe thead th {\n",
       "        text-align: right;\n",
       "    }\n",
       "</style>\n",
       "<table border=\"1\" class=\"dataframe\">\n",
       "  <thead>\n",
       "    <tr style=\"text-align: right;\">\n",
       "      <th></th>\n",
       "      <th>category</th>\n",
       "      <th>age</th>\n",
       "    </tr>\n",
       "    <tr>\n",
       "      <th>2</th>\n",
       "      <th></th>\n",
       "      <th></th>\n",
       "    </tr>\n",
       "  </thead>\n",
       "  <tbody>\n",
       "    <tr>\n",
       "      <th>1</th>\n",
       "      <td>aris</td>\n",
       "      <td>21</td>\n",
       "    </tr>\n",
       "    <tr>\n",
       "      <th>2</th>\n",
       "      <td>aris</td>\n",
       "      <td>21</td>\n",
       "    </tr>\n",
       "    <tr>\n",
       "      <th>3</th>\n",
       "      <td>aris</td>\n",
       "      <td>21</td>\n",
       "    </tr>\n",
       "    <tr>\n",
       "      <th>4</th>\n",
       "      <td>aris</td>\n",
       "      <td>21</td>\n",
       "    </tr>\n",
       "    <tr>\n",
       "      <th>5</th>\n",
       "      <td>aris</td>\n",
       "      <td>21</td>\n",
       "    </tr>\n",
       "    <tr>\n",
       "      <th>...</th>\n",
       "      <td>...</td>\n",
       "      <td>...</td>\n",
       "    </tr>\n",
       "    <tr>\n",
       "      <th>436</th>\n",
       "      <td>sovr</td>\n",
       "      <td>95</td>\n",
       "    </tr>\n",
       "    <tr>\n",
       "      <th>437</th>\n",
       "      <td>sovr</td>\n",
       "      <td>95</td>\n",
       "    </tr>\n",
       "    <tr>\n",
       "      <th>438</th>\n",
       "      <td>sovr</td>\n",
       "      <td>97</td>\n",
       "    </tr>\n",
       "    <tr>\n",
       "      <th>439</th>\n",
       "      <td>sovr</td>\n",
       "      <td>0</td>\n",
       "    </tr>\n",
       "    <tr>\n",
       "      <th>440</th>\n",
       "      <td>sovr</td>\n",
       "      <td>1</td>\n",
       "    </tr>\n",
       "  </tbody>\n",
       "</table>\n",
       "<p>6186 rows × 2 columns</p>\n",
       "</div>"
      ],
      "text/plain": [
       "    category  age\n",
       "2                \n",
       "1       aris   21\n",
       "2       aris   21\n",
       "3       aris   21\n",
       "4       aris   21\n",
       "5       aris   21\n",
       "..       ...  ...\n",
       "436     sovr   95\n",
       "437     sovr   95\n",
       "438     sovr   97\n",
       "439     sovr    0\n",
       "440     sovr    1\n",
       "\n",
       "[6186 rows x 2 columns]"
      ]
     },
     "execution_count": 15,
     "metadata": {},
     "output_type": "execute_result"
    }
   ],
   "source": [
    "age_at_death"
   ]
  },
  {
   "cell_type": "code",
   "execution_count": 16,
   "metadata": {},
   "outputs": [
    {
     "data": {
      "text/plain": [
       "array(['aris', 'gent', 'sovr'], dtype=object)"
      ]
     },
     "execution_count": 16,
     "metadata": {},
     "output_type": "execute_result"
    }
   ],
   "source": [
    "age_at_death[\"category\"].uniqueque()"
   ]
  },
  {
   "cell_type": "code",
   "execution_count": 17,
   "metadata": {},
   "outputs": [
    {
     "data": {
      "text/plain": [
       "gent    2455\n",
       "aris    2291\n",
       "sovr    1440\n",
       "Name: category, dtype: int64"
      ]
     },
     "execution_count": 17,
     "metadata": {},
     "output_type": "execute_result"
    }
   ],
   "source": [
    "age_at_death[\"category\"].value_counts()"
   ]
  },
  {
   "cell_type": "code",
   "execution_count": 21,
   "metadata": {},
   "outputs": [
    {
     "data": {
      "image/png": "[encoded data removed]",
      "text/plain": [
       "<Figure size 432x288 with 1 Axes>"
      ]
     },
     "metadata": {
      "needs_background": "light"
     },
     "output_type": "display_data"
    }
   ],
   "source": [
    "plt.hist(age_at_death[age_at_death[\"category\"] == \"aris\"][\"age\"], bins = 20)\n",
    "\n",
    "plt.xlabel(\"Age\")\n",
    "plt.ylabel(\"Number of people\")\n",
    "plt.show()"
   ]
  },
  {
   "cell_type": "code",
   "execution_count": 32,
   "metadata": {},
   "outputs": [
    {
     "data": {
      "image/png": "[encoded data removed]",
      "text/plain": [
       "<Figure size 432x288 with 1 Axes>"
      ]
     },
     "metadata": {
      "needs_background": "light"
     },
     "output_type": "display_data"
    }
   ],
   "source": [
    "for category, group_data in age_at_death.groupby(\"category\"):\n",
    "    plt.hist(group_data[\"age\"], bins = 20, label = category, alpha = 0.5)\n",
    "\n",
    "plt.xlabel(\"Age\")\n",
    "plt.ylabel(\"Number of people\")\n",
    "plt.legend()\n",
    "\n",
    "plt.show()"
   ]
  },
  {
   "cell_type": "code",
   "execution_count": 31,
   "metadata": {},
   "outputs": [
    {
     "data": {
      "image/png": "[encoded data removed]",
      "text/plain": [
       "<Figure size 432x288 with 1 Axes>"
      ]
     },
     "metadata": {
      "needs_background": "light"
     },
     "output_type": "display_data"
    }
   ],
   "source": [
    "for category, group_data in age_at_death.groupby(\"category\"):\n",
    "    plt.hist(group_data[\"age\"], bins = 20, density = True, label = category, alpha = 0.5)\n",
    "\n",
    "plt.xlabel(\"Age\")\n",
    "plt.ylabel(\"Number of people\")\n",
    "plt.legend()\n",
    "\n",
    "plt.show()"
   ]
  },
  {
   "cell_type": "code",
   "execution_count": 33,
   "metadata": {},
   "outputs": [
    {
     "data": {
      "text/plain": [
       "category\n",
       "aris    60.146224\n",
       "gent    57.145010\n",
       "sovr    54.093750\n",
       "Name: age, dtype: float64"
      ]
     },
     "execution_count": 33,
     "metadata": {},
     "output_type": "execute_result"
    }
   ],
   "source": [
    "age_at_death.groupby(\"category\")[\"age\"].mean()"
   ]
  },
  {
   "cell_type": "code",
   "execution_count": 38,
   "metadata": {},
   "outputs": [],
   "source": [
    "ages_by_category = {}\n",
    "for category, group_data in age_at_death.groupby(\"category\"):\n",
    "    ages_by_category[category] = group_data[\"age\"]"
   ]
  },
  {
   "cell_type": "code",
   "execution_count": 42,
   "metadata": {},
   "outputs": [
    {
     "data": {
      "text/plain": [
       "Ttest_indResult(statistic=5.8098209575036135, pvalue=6.662376193720552e-09)"
      ]
     },
     "execution_count": 42,
     "metadata": {},
     "output_type": "execute_result"
    }
   ],
   "source": [
    "st.ttest_ind(ages_by_category[\"aris\"], ages_by_category[\"gent\"])"
   ]
  },
  {
   "cell_type": "code",
   "execution_count": 40,
   "metadata": {},
   "outputs": [
    {
     "data": {
      "text/plain": [
       "Ttest_indResult(statistic=10.632066783999475, pvalue=4.968340143906721e-26)"
      ]
     },
     "execution_count": 40,
     "metadata": {},
     "output_type": "execute_result"
    }
   ],
   "source": [
    "st.ttest_ind(ages_by_category[\"aris\"], ages_by_category[\"sovr\"])"
   ]
  },
  {
   "cell_type": "code",
   "execution_count": 41,
   "metadata": {},
   "outputs": [
    {
     "data": {
      "text/plain": [
       "Ttest_indResult(statistic=5.2855394856397835, pvalue=1.3221059220353447e-07)"
      ]
     },
     "execution_count": 41,
     "metadata": {},
     "output_type": "execute_result"
    }
   ],
   "source": [
    "st.ttest_ind(ages_by_category[\"gent\"], ages_by_category[\"sovr\"])"
   ]
  },
  {
   "cell_type": "markdown",
   "metadata": {},
   "source": [
    "Let's try something else. In the `data/horse_beginners.dat` file, there's data about 8 people. Each person is a beginner in horse riding. They were asked to imagine how long their ride would take (for a fixed track length). After that, the actual times were measured.\n",
    "\n",
    "Get acquainted with the data and draw some plots if you need (hint: boxplots are useful for comparing distributions). Are the people good at predicting their ride times? That is, are there significant differences between imagined and actual time (5%-level)? Also, is the imagined time **significantly longer** than the real time? Perform a t-test. Don't forget that the subjects are the same."
   ]
  },
  {
   "cell_type": "code",
   "execution_count": 48,
   "metadata": {},
   "outputs": [],
   "source": [
    "horse_beginners = pd.read_fwf(\"data/horse_beginners.dat\", index_col = 0)"
   ]
  },
  {
   "cell_type": "code",
   "execution_count": 54,
   "metadata": {},
   "outputs": [
    {
     "data": {
      "image/png": "[encoded data removed]",
      "text/plain": [
       "<Figure size 432x288 with 1 Axes>"
      ]
     },
     "metadata": {
      "needs_background": "light"
     },
     "output_type": "display_data"
    }
   ],
   "source": [
    "plt.hist(horse_beginners[\"Imaginary\"], label = \"imaginary\")\n",
    "plt.hist(horse_beginners[\"Actual\"], label = \"actual\")\n",
    "\n",
    "plt.legend()\n",
    "plt.show()"
   ]
  },
  {
   "cell_type": "code",
   "execution_count": 56,
   "metadata": {},
   "outputs": [
    {
     "data": {
      "text/plain": [
       "1     1.045960\n",
       "2     2.432982\n",
       "3     3.274885\n",
       "4     1.981747\n",
       "5     4.930271\n",
       "6     2.000292\n",
       "7    12.248239\n",
       "8     4.958722\n",
       "dtype: float64"
      ]
     },
     "execution_count": 56,
     "metadata": {},
     "output_type": "execute_result"
    }
   ],
   "source": [
    "horse_beginners[\"Actual\"] / horse_beginners[\"Imaginary\"]"
   ]
  },
  {
   "cell_type": "code",
   "execution_count": 49,
   "metadata": {},
   "outputs": [
    {
     "data": {
      "text/plain": [
       "Ttest_relResult(statistic=6.190025790155937, pvalue=0.0004496024819026769)"
      ]
     },
     "execution_count": 49,
     "metadata": {},
     "output_type": "execute_result"
    }
   ],
   "source": [
    "st.ttest_rel(horse_beginners[\"Actual\"], horse_beginners[\"Imaginary\"])"
   ]
  },
  {
   "cell_type": "markdown",
   "metadata": {},
   "source": [
    "### Problem 2. ANOVA\n",
    "Read [this](http://www.itl.nist.gov/div898/education/anova/newcar.dat) dataset. Get acquainted with it and plot graphics. Note that it's formatted a bit oddly. First, you have to skip some rows; second, the target variable is first (in most datasets, it's the last one). Well, that shouldn't bother you :).\n",
    "\n",
    "Do the rates differ significantly ($\\alpha = 0,05$) between cities? Apply one-way ANOVA to find out.\n",
    "\n",
    "**Hint:** You have to group all values by city. You can get a dictionary of groups like this:\n",
    "```python\n",
    "groups = { k: v.tolist() for k, v in cars.groupby(\"City\").Rate }\n",
    "```\n",
    "\n",
    "After that, you can use ```*groups.values()``` to pass all dictionary values as separate arguments to a function."
   ]
  },
  {
   "cell_type": "code",
   "execution_count": 60,
   "metadata": {},
   "outputs": [
    {
     "data": {
      "text/html": [
       "<div>\n",
       "<style scoped>\n",
       "    .dataframe tbody tr th:only-of-type {\n",
       "        vertical-align: middle;\n",
       "    }\n",
       "\n",
       "    .dataframe tbody tr th {\n",
       "        vertical-align: top;\n",
       "    }\n",
       "\n",
       "    .dataframe thead th {\n",
       "        text-align: right;\n",
       "    }\n",
       "</style>\n",
       "<table border=\"1\" class=\"dataframe\">\n",
       "  <thead>\n",
       "    <tr style=\"text-align: right;\">\n",
       "      <th></th>\n",
       "      <th>Rate</th>\n",
       "      <th>City</th>\n",
       "    </tr>\n",
       "  </thead>\n",
       "  <tbody>\n",
       "    <tr>\n",
       "      <th>0</th>\n",
       "      <td>13.75</td>\n",
       "      <td>1</td>\n",
       "    </tr>\n",
       "    <tr>\n",
       "      <th>1</th>\n",
       "      <td>13.75</td>\n",
       "      <td>1</td>\n",
       "    </tr>\n",
       "    <tr>\n",
       "      <th>2</th>\n",
       "      <td>13.50</td>\n",
       "      <td>1</td>\n",
       "    </tr>\n",
       "    <tr>\n",
       "      <th>3</th>\n",
       "      <td>13.50</td>\n",
       "      <td>1</td>\n",
       "    </tr>\n",
       "    <tr>\n",
       "      <th>4</th>\n",
       "      <td>13.00</td>\n",
       "      <td>1</td>\n",
       "    </tr>\n",
       "    <tr>\n",
       "      <th>5</th>\n",
       "      <td>13.00</td>\n",
       "      <td>1</td>\n",
       "    </tr>\n",
       "    <tr>\n",
       "      <th>6</th>\n",
       "      <td>13.00</td>\n",
       "      <td>1</td>\n",
       "    </tr>\n",
       "    <tr>\n",
       "      <th>7</th>\n",
       "      <td>12.75</td>\n",
       "      <td>1</td>\n",
       "    </tr>\n",
       "    <tr>\n",
       "      <th>8</th>\n",
       "      <td>12.50</td>\n",
       "      <td>1</td>\n",
       "    </tr>\n",
       "    <tr>\n",
       "      <th>9</th>\n",
       "      <td>14.25</td>\n",
       "      <td>2</td>\n",
       "    </tr>\n",
       "    <tr>\n",
       "      <th>10</th>\n",
       "      <td>13.00</td>\n",
       "      <td>2</td>\n",
       "    </tr>\n",
       "    <tr>\n",
       "      <th>11</th>\n",
       "      <td>12.75</td>\n",
       "      <td>2</td>\n",
       "    </tr>\n",
       "    <tr>\n",
       "      <th>12</th>\n",
       "      <td>12.50</td>\n",
       "      <td>2</td>\n",
       "    </tr>\n",
       "    <tr>\n",
       "      <th>13</th>\n",
       "      <td>12.50</td>\n",
       "      <td>2</td>\n",
       "    </tr>\n",
       "    <tr>\n",
       "      <th>14</th>\n",
       "      <td>12.40</td>\n",
       "      <td>2</td>\n",
       "    </tr>\n",
       "    <tr>\n",
       "      <th>15</th>\n",
       "      <td>12.30</td>\n",
       "      <td>2</td>\n",
       "    </tr>\n",
       "    <tr>\n",
       "      <th>16</th>\n",
       "      <td>11.90</td>\n",
       "      <td>2</td>\n",
       "    </tr>\n",
       "    <tr>\n",
       "      <th>17</th>\n",
       "      <td>11.90</td>\n",
       "      <td>2</td>\n",
       "    </tr>\n",
       "    <tr>\n",
       "      <th>18</th>\n",
       "      <td>14.00</td>\n",
       "      <td>3</td>\n",
       "    </tr>\n",
       "    <tr>\n",
       "      <th>19</th>\n",
       "      <td>14.00</td>\n",
       "      <td>3</td>\n",
       "    </tr>\n",
       "    <tr>\n",
       "      <th>20</th>\n",
       "      <td>13.51</td>\n",
       "      <td>3</td>\n",
       "    </tr>\n",
       "    <tr>\n",
       "      <th>21</th>\n",
       "      <td>13.50</td>\n",
       "      <td>3</td>\n",
       "    </tr>\n",
       "    <tr>\n",
       "      <th>22</th>\n",
       "      <td>13.50</td>\n",
       "      <td>3</td>\n",
       "    </tr>\n",
       "    <tr>\n",
       "      <th>23</th>\n",
       "      <td>13.25</td>\n",
       "      <td>3</td>\n",
       "    </tr>\n",
       "    <tr>\n",
       "      <th>24</th>\n",
       "      <td>13.00</td>\n",
       "      <td>3</td>\n",
       "    </tr>\n",
       "    <tr>\n",
       "      <th>25</th>\n",
       "      <td>12.50</td>\n",
       "      <td>3</td>\n",
       "    </tr>\n",
       "    <tr>\n",
       "      <th>26</th>\n",
       "      <td>12.50</td>\n",
       "      <td>3</td>\n",
       "    </tr>\n",
       "    <tr>\n",
       "      <th>27</th>\n",
       "      <td>15.00</td>\n",
       "      <td>4</td>\n",
       "    </tr>\n",
       "    <tr>\n",
       "      <th>28</th>\n",
       "      <td>14.00</td>\n",
       "      <td>4</td>\n",
       "    </tr>\n",
       "    <tr>\n",
       "      <th>29</th>\n",
       "      <td>13.75</td>\n",
       "      <td>4</td>\n",
       "    </tr>\n",
       "    <tr>\n",
       "      <th>30</th>\n",
       "      <td>13.59</td>\n",
       "      <td>4</td>\n",
       "    </tr>\n",
       "    <tr>\n",
       "      <th>31</th>\n",
       "      <td>13.25</td>\n",
       "      <td>4</td>\n",
       "    </tr>\n",
       "    <tr>\n",
       "      <th>32</th>\n",
       "      <td>12.97</td>\n",
       "      <td>4</td>\n",
       "    </tr>\n",
       "    <tr>\n",
       "      <th>33</th>\n",
       "      <td>12.50</td>\n",
       "      <td>4</td>\n",
       "    </tr>\n",
       "    <tr>\n",
       "      <th>34</th>\n",
       "      <td>12.25</td>\n",
       "      <td>4</td>\n",
       "    </tr>\n",
       "    <tr>\n",
       "      <th>35</th>\n",
       "      <td>11.89</td>\n",
       "      <td>4</td>\n",
       "    </tr>\n",
       "    <tr>\n",
       "      <th>36</th>\n",
       "      <td>14.50</td>\n",
       "      <td>5</td>\n",
       "    </tr>\n",
       "    <tr>\n",
       "      <th>37</th>\n",
       "      <td>14.00</td>\n",
       "      <td>5</td>\n",
       "    </tr>\n",
       "    <tr>\n",
       "      <th>38</th>\n",
       "      <td>14.00</td>\n",
       "      <td>5</td>\n",
       "    </tr>\n",
       "    <tr>\n",
       "      <th>39</th>\n",
       "      <td>13.90</td>\n",
       "      <td>5</td>\n",
       "    </tr>\n",
       "    <tr>\n",
       "      <th>40</th>\n",
       "      <td>13.75</td>\n",
       "      <td>5</td>\n",
       "    </tr>\n",
       "    <tr>\n",
       "      <th>41</th>\n",
       "      <td>13.25</td>\n",
       "      <td>5</td>\n",
       "    </tr>\n",
       "    <tr>\n",
       "      <th>42</th>\n",
       "      <td>13.00</td>\n",
       "      <td>5</td>\n",
       "    </tr>\n",
       "    <tr>\n",
       "      <th>43</th>\n",
       "      <td>12.50</td>\n",
       "      <td>5</td>\n",
       "    </tr>\n",
       "    <tr>\n",
       "      <th>44</th>\n",
       "      <td>12.45</td>\n",
       "      <td>5</td>\n",
       "    </tr>\n",
       "    <tr>\n",
       "      <th>45</th>\n",
       "      <td>13.50</td>\n",
       "      <td>6</td>\n",
       "    </tr>\n",
       "    <tr>\n",
       "      <th>46</th>\n",
       "      <td>12.25</td>\n",
       "      <td>6</td>\n",
       "    </tr>\n",
       "    <tr>\n",
       "      <th>47</th>\n",
       "      <td>12.25</td>\n",
       "      <td>6</td>\n",
       "    </tr>\n",
       "    <tr>\n",
       "      <th>48</th>\n",
       "      <td>12.00</td>\n",
       "      <td>6</td>\n",
       "    </tr>\n",
       "    <tr>\n",
       "      <th>49</th>\n",
       "      <td>12.00</td>\n",
       "      <td>6</td>\n",
       "    </tr>\n",
       "    <tr>\n",
       "      <th>50</th>\n",
       "      <td>12.00</td>\n",
       "      <td>6</td>\n",
       "    </tr>\n",
       "    <tr>\n",
       "      <th>51</th>\n",
       "      <td>12.00</td>\n",
       "      <td>6</td>\n",
       "    </tr>\n",
       "    <tr>\n",
       "      <th>52</th>\n",
       "      <td>11.90</td>\n",
       "      <td>6</td>\n",
       "    </tr>\n",
       "    <tr>\n",
       "      <th>53</th>\n",
       "      <td>11.90</td>\n",
       "      <td>6</td>\n",
       "    </tr>\n",
       "  </tbody>\n",
       "</table>\n",
       "</div>"
      ],
      "text/plain": [
       "     Rate  City\n",
       "0   13.75     1\n",
       "1   13.75     1\n",
       "2   13.50     1\n",
       "3   13.50     1\n",
       "4   13.00     1\n",
       "5   13.00     1\n",
       "6   13.00     1\n",
       "7   12.75     1\n",
       "8   12.50     1\n",
       "9   14.25     2\n",
       "10  13.00     2\n",
       "11  12.75     2\n",
       "12  12.50     2\n",
       "13  12.50     2\n",
       "14  12.40     2\n",
       "15  12.30     2\n",
       "16  11.90     2\n",
       "17  11.90     2\n",
       "18  14.00     3\n",
       "19  14.00     3\n",
       "20  13.51     3\n",
       "21  13.50     3\n",
       "22  13.50     3\n",
       "23  13.25     3\n",
       "24  13.00     3\n",
       "25  12.50     3\n",
       "26  12.50     3\n",
       "27  15.00     4\n",
       "28  14.00     4\n",
       "29  13.75     4\n",
       "30  13.59     4\n",
       "31  13.25     4\n",
       "32  12.97     4\n",
       "33  12.50     4\n",
       "34  12.25     4\n",
       "35  11.89     4\n",
       "36  14.50     5\n",
       "37  14.00     5\n",
       "38  14.00     5\n",
       "39  13.90     5\n",
       "40  13.75     5\n",
       "41  13.25     5\n",
       "42  13.00     5\n",
       "43  12.50     5\n",
       "44  12.45     5\n",
       "45  13.50     6\n",
       "46  12.25     6\n",
       "47  12.25     6\n",
       "48  12.00     6\n",
       "49  12.00     6\n",
       "50  12.00     6\n",
       "51  12.00     6\n",
       "52  11.90     6\n",
       "53  11.90     6"
      ]
     },
     "execution_count": 60,
     "metadata": {},
     "output_type": "execute_result"
    }
   ],
   "source": [
    "cars_data = pd.read_fwf(\"https://www.itl.nist.gov/div898/education/anova/newcar.dat\", skiprows = 25, header = None)\n",
    "cars_data.columns = [\"Rate\", \"City\"]"
   ]
  },
  {
   "cell_type": "code",
   "execution_count": 61,
   "metadata": {},
   "outputs": [
    {
     "data": {
      "text/plain": [
       "(54, 2)"
      ]
     },
     "execution_count": 61,
     "metadata": {},
     "output_type": "execute_result"
    }
   ],
   "source": [
    "cars_data.shape"
   ]
  },
  {
   "cell_type": "code",
   "execution_count": 62,
   "metadata": {},
   "outputs": [
    {
     "data": {
      "text/plain": [
       "Rate    float64\n",
       "City      int64\n",
       "dtype: object"
      ]
     },
     "execution_count": 62,
     "metadata": {},
     "output_type": "execute_result"
    }
   ],
   "source": [
    "cars_data.dtypes"
   ]
  },
  {
   "cell_type": "code",
   "execution_count": 63,
   "metadata": {},
   "outputs": [
    {
     "data": {
      "text/plain": [
       "array([1, 2, 3, 4, 5, 6], dtype=int64)"
      ]
     },
     "execution_count": 63,
     "metadata": {},
     "output_type": "execute_result"
    }
   ],
   "source": [
    "cars_data[\"City\"].unique()"
   ]
  },
  {
   "cell_type": "code",
   "execution_count": 65,
   "metadata": {},
   "outputs": [
    {
     "data": {
      "image/png": "[encoded data removed]",
      "text/plain": [
       "<Figure size 432x288 with 1 Axes>"
      ]
     },
     "metadata": {
      "needs_background": "light"
     },
     "output_type": "display_data"
    }
   ],
   "source": [
    "plt.hist(cars_data[\"Rate\"])\n",
    "plt.show()"
   ]
  },
  {
   "cell_type": "code",
   "execution_count": 72,
   "metadata": {},
   "outputs": [
    {
     "data": {
      "image/png": "[encoded data removed]",
      "text/plain": [
       "<Figure size 432x288 with 1 Axes>"
      ]
     },
     "metadata": {
      "needs_background": "light"
     },
     "output_type": "display_data"
    }
   ],
   "source": [
    "for city, group_data in cars_data.groupby(\"City\"):\n",
    "    plt.hist(group_data[\"Rate\"], label = city, alpha = 0.5)\n",
    "    \n",
    "plt.legend()\n",
    "plt.show()"
   ]
  },
  {
   "cell_type": "code",
   "execution_count": 84,
   "metadata": {},
   "outputs": [],
   "source": [
    "groups = {k: v.tolist() for k, v in cars_data.groupby(\"City\")[\"Rate\"]}"
   ]
  },
  {
   "cell_type": "code",
   "execution_count": 89,
   "metadata": {},
   "outputs": [
    {
     "name": "stdout",
     "output_type": "stream",
     "text": [
      "0.117%\n"
     ]
    }
   ],
   "source": [
    "print(f\"{st.f_oneway(*groups.values()).pvalue * 100:.3f}%\")"
   ]
  },
  {
   "cell_type": "code",
   "execution_count": 83,
   "metadata": {},
   "outputs": [
    {
     "data": {
      "text/plain": [
       "{1: [13.75, 13.75, 13.5, 13.5, 13.0, 13.0, 13.0, 12.75, 12.5],\n",
       " 2: [14.25, 13.0, 12.75, 12.5, 12.5, 12.4, 12.3, 11.9, 11.9],\n",
       " 3: [14.0, 14.0, 13.51, 13.5, 13.5, 13.25, 13.0, 12.5, 12.5],\n",
       " 4: [15.0, 14.0, 13.75, 13.59, 13.25, 12.97, 12.5, 12.25, 11.89],\n",
       " 5: [14.5, 14.0, 14.0, 13.9, 13.75, 13.25, 13.0, 12.5, 12.45],\n",
       " 6: [13.5, 12.25, 12.25, 12.0, 12.0, 12.0, 12.0, 11.9, 11.9]}"
      ]
     },
     "execution_count": 83,
     "metadata": {},
     "output_type": "execute_result"
    }
   ],
   "source": [
    "groups"
   ]
  },
  {
   "cell_type": "markdown",
   "metadata": {},
   "source": [
    "Well, most analyses aren't so simple. Let's have a look at another dataset. This one is located [here](http://www.itl.nist.gov/div898/education/anova/ratfeed.dat). Get acquainted with it.\n",
    "\n",
    "This time, we've got two explanatory variables: amount and type of diet.\n",
    "\n",
    "Perform one-way ANOVA to each variable separately, disregarding the other one. \n",
    "\n",
    "To do this, take for example the \"Amount\" variable. Group all weights by amount, disregarding the diet type. Perform ANOVA on the groups, like you did before. Repeat the same process with \"Diet\".\n",
    "\n",
    "Do the groups differ significantly at the 5%-level?"
   ]
  },
  {
   "cell_type": "code",
   "execution_count": 92,
   "metadata": {},
   "outputs": [],
   "source": [
    "rats_data = pd.read_fwf(\"https://www.itl.nist.gov/div898/education/anova/ratfeed.dat\", skiprows = 25, header = None)\n",
    "rats_data.columns = [\"Weight\", \"Amount\", \"Type\"]"
   ]
  },
  {
   "cell_type": "code",
   "execution_count": 95,
   "metadata": {},
   "outputs": [
    {
     "data": {
      "text/plain": [
       "1    20\n",
       "2    20\n",
       "3    20\n",
       "Name: Type, dtype: int64"
      ]
     },
     "execution_count": 95,
     "metadata": {},
     "output_type": "execute_result"
    }
   ],
   "source": [
    "rats_data[\"Type\"].value_counts()"
   ]
  },
  {
   "cell_type": "code",
   "execution_count": 99,
   "metadata": {},
   "outputs": [
    {
     "data": {
      "text/plain": [
       "Amount  Type\n",
       "1       1       100.0\n",
       "        2        99.5\n",
       "        3        85.9\n",
       "2       1        79.2\n",
       "        2        78.7\n",
       "        3        83.9\n",
       "Name: Weight, dtype: float64"
      ]
     },
     "execution_count": 99,
     "metadata": {},
     "output_type": "execute_result"
    }
   ],
   "source": [
    "rats_data.groupby([\"Amount\", \"Type\"]).Weight.mean()"
   ]
  },
  {
   "cell_type": "code",
   "execution_count": 101,
   "metadata": {},
   "outputs": [
    {
     "data": {
      "text/plain": [
       "0.040332283036763616"
      ]
     },
     "execution_count": 101,
     "metadata": {},
     "output_type": "execute_result"
    }
   ],
   "source": [
    "st.f_oneway(rats_data[rats_data[\"Amount\"] == 1][\"Weight\"], rats_data[rats_data[\"Amount\"] == 2][\"Weight\"]).pvalue * 100"
   ]
  },
  {
   "cell_type": "code",
   "execution_count": 103,
   "metadata": {},
   "outputs": [
    {
     "data": {
      "text/plain": [
       "62.32342640383861"
      ]
     },
     "execution_count": 103,
     "metadata": {},
     "output_type": "execute_result"
    }
   ],
   "source": [
    "st.f_oneway(rats_data[rats_data[\"Type\"] == 1][\"Weight\"], \n",
    "            rats_data[rats_data[\"Type\"] == 2][\"Weight\"],\n",
    "            rats_data[rats_data[\"Type\"] == 3][\"Weight\"]\n",
    "           ).pvalue * 100"
   ]
  },
  {
   "cell_type": "markdown",
   "metadata": {},
   "source": [
    "Sometimes we have to take into account multiple values. In this case, we want to ask another question: Is there a significant difference between combinations of diet and amount? These are called **interacting variables**. Unfortunately, there isn't a quick and easy way to perform this test in `scipy.stats`, but `statsmodels` is another library which will come in handy.\n",
    "\n",
    "We won't go into many details how it works but you basically create a linear model (`ols` stands for \"ordinary least squares\") and you provide a formula. The formula we want to use looks like this:\n",
    "```python\n",
    "formula = \"Weight ~ C(Amount) + C(Diet) + C(Amount):C(Diet)\"\n",
    "```\n",
    "\n",
    "`Weight`, `Amount` and `Diet` are the **column names** (i.e. variable names) in the dataset. `C(Amount)` tells the library to treat the variable as *categorical*, not numerical (e.g. diet 1 + diet 3 makes absolutely no sense). Finally `C(Amount):C(Diet)` means that we take the interaction between these categories (Cartesian product - every amount with every diet).\n",
    "\n",
    "How do we read this formula? \"The Weight column is proportional to the categories Amount, Diet and their interaction\" (i.e. Weight is a linear combination of the three other variables).\n",
    "\n",
    "We are now ready. Well, we could have done all this by hand as well, but why bother :)? Just create the linear model:\n",
    "```python\n",
    "model = ols(formula, rats).fit()\n",
    "```\n",
    "\n",
    "and the ANOVA table:\n",
    "```python\n",
    "table = statsmodels.stats.anova.anova_lm(model, typ = 2)\n",
    "```\n",
    "\n",
    "You can see there's \"type 2\" ANOVA chosen. If you're interested, you can read more about the three types of ANOVA [here](https://mcfromnz.wordpress.com/2011/03/02/anova-type-iiiiii-ss-explained/)\n",
    "\n",
    "P. S.: The type of formulas we described above are typical for another popular language for statistics and data analysis, called **R**. They're also why many people hate R. They're good but need a bit of understanding and getting accustomed to. Case closed :D."
   ]
  },
  {
   "cell_type": "code",
   "execution_count": 107,
   "metadata": {},
   "outputs": [
    {
     "data": {
      "text/plain": [
       "<statsmodels.regression.linear_model.RegressionResultsWrapper at 0x1d41589d1f0>"
      ]
     },
     "execution_count": 107,
     "metadata": {},
     "output_type": "execute_result"
    }
   ],
   "source": [
    "formula = \"Weight ~ C(Amount) + C(Type) + C(Amount):C(Type)\"\n",
    "model = ols(formula, rats_data).fit()model"
   ]
  },
  {
   "cell_type": "code",
   "execution_count": 111,
   "metadata": {},
   "outputs": [
    {
     "data": {
      "text/html": [
       "<div>\n",
       "<style scoped>\n",
       "    .dataframe tbody tr th:only-of-type {\n",
       "        vertical-align: middle;\n",
       "    }\n",
       "\n",
       "    .dataframe tbody tr th {\n",
       "        vertical-align: top;\n",
       "    }\n",
       "\n",
       "    .dataframe thead th {\n",
       "        text-align: right;\n",
       "    }\n",
       "</style>\n",
       "<table border=\"1\" class=\"dataframe\">\n",
       "  <thead>\n",
       "    <tr style=\"text-align: right;\">\n",
       "      <th></th>\n",
       "      <th>sum_sq</th>\n",
       "      <th>df</th>\n",
       "      <th>F</th>\n",
       "      <th>PR(&gt;F)</th>\n",
       "    </tr>\n",
       "  </thead>\n",
       "  <tbody>\n",
       "    <tr>\n",
       "      <th>C(Amount)</th>\n",
       "      <td>3168.266667</td>\n",
       "      <td>1.0</td>\n",
       "      <td>14.766649</td>\n",
       "      <td>0.000322</td>\n",
       "    </tr>\n",
       "    <tr>\n",
       "      <th>C(Type)</th>\n",
       "      <td>266.533333</td>\n",
       "      <td>2.0</td>\n",
       "      <td>0.621129</td>\n",
       "      <td>0.541132</td>\n",
       "    </tr>\n",
       "    <tr>\n",
       "      <th>C(Amount):C(Type)</th>\n",
       "      <td>1178.133333</td>\n",
       "      <td>2.0</td>\n",
       "      <td>2.745520</td>\n",
       "      <td>0.073188</td>\n",
       "    </tr>\n",
       "    <tr>\n",
       "      <th>Residual</th>\n",
       "      <td>11586.000000</td>\n",
       "      <td>54.0</td>\n",
       "      <td>NaN</td>\n",
       "      <td>NaN</td>\n",
       "    </tr>\n",
       "  </tbody>\n",
       "</table>\n",
       "</div>"
      ],
      "text/plain": [
       "                         sum_sq    df          F    PR(>F)\n",
       "C(Amount)           3168.266667   1.0  14.766649  0.000322\n",
       "C(Type)              266.533333   2.0   0.621129  0.541132\n",
       "C(Amount):C(Type)   1178.133333   2.0   2.745520  0.073188\n",
       "Residual           11586.000000  54.0        NaN       NaN"
      ]
     },
     "execution_count": 111,
     "metadata": {},
     "output_type": "execute_result"
    }
   ],
   "source": [
    "anova_lm(model, typ = 2)"
   ]
  },
  {
   "cell_type": "markdown",
   "metadata": {},
   "source": [
    "### Problem 3. Contingency Tables. $\\chi^2$-test\n",
    "Have a look at the dataset `data/Popular Kids.tsv` and its description `data/Popular Kids Description.txt`.\n",
    "\n",
    "When we want to compare data across many categories, a useful way we can visualize it, is using **contingency tables** (or two-way tables). One variable goes to the rows, another one - to the columns of the table. The intersection cell represents the number of observations having this combination of values.\n",
    "\n",
    "Try it now:\n",
    "```python\n",
    "pd.crosstab(kids.Grade, kids.Goals)\n",
    "```\n",
    "\n",
    "You can also specify multiple columns - this will create higher-dimensional tables. Keep in mind, however, that these are difficult to look at and understand. We're usually fine with two variables, three in some rare cases."
   ]
  },
  {
   "cell_type": "code",
   "execution_count": null,
   "metadata": {
    "collapsed": true
   },
   "outputs": [],
   "source": [
    "# Write your code here"
   ]
  },
  {
   "cell_type": "markdown",
   "metadata": {},
   "source": [
    "The **$\\chi^2$**-test provides a way to test for association between two (or more) categorical variables. In this case, **Grade** and **Goals** seem to be good candidates. This is most easily done using the contingency table. Fortunately, `scipy.stats` has one such method (read the docs [here](https://docs.scipy.org/doc/scipy-0.15.1/reference/generated/scipy.stats.chi2_contingency.html)).\n",
    "\n",
    "Note that this test doesn't specify what the relationship is. It just tells us that there might be a significant relationship.\n",
    "\n",
    "Are goals related to grade? To what extent? Are these significant?\n",
    "* $H_0$: No relation between Grade and Goals\n",
    "* $H_1$: Some relation exists between Grade and Goals\n",
    "* $\\alpha = 0,05$"
   ]
  },
  {
   "cell_type": "code",
   "execution_count": null,
   "metadata": {
    "collapsed": true
   },
   "outputs": [],
   "source": [
    "# Write your code here"
   ]
  },
  {
   "cell_type": "markdown",
   "metadata": {},
   "source": [
    "The school areas are also divided into \"Urban\", \"Suburban\" and \"Rural\". Are the school areas related to goals? Perform the same type of test. Is the difference significant now?"
   ]
  },
  {
   "cell_type": "code",
   "execution_count": null,
   "metadata": {
    "collapsed": true
   },
   "outputs": [],
   "source": [
    "# Write your code here"
   ]
  },
  {
   "cell_type": "markdown",
   "metadata": {},
   "source": [
    "Feel free to continue exploring the dataset as you wish. You can find interesting data and relationships. \n",
    "\n",
    "**Note:** You'll see the catch of categorical variables - these are very difficult to visualize properly. Most plots just appear as symmetrical patterns of dots. You can rely on contingency tables and correlations to properly describe and explore these variables."
   ]
  },
  {
   "cell_type": "markdown",
   "metadata": {},
   "source": [
    "### * Problem 4. Image Convolution\n",
    "\"Convolution\" refers to a process similar to \"mixing\" two functions. It can be performed in one dimension (e.g. on audio data), or many dimensions. In this problem, we'll look at 2D convolution of images and what we can do with it.\n",
    "\n",
    "Let's first read an image. Once again, to make things easier, we'll separate the channels. We can work on all three channels separately or at once but it's easier to work with one channel only."
   ]
  },
  {
   "cell_type": "code",
   "execution_count": null,
   "metadata": {
    "collapsed": true
   },
   "outputs": [],
   "source": [
    "original_image = imread(\"https://upload.wikimedia.org/wikipedia/commons/d/d9/Norwegian_Forest_Cat_Portrait.JPG\")\n",
    "\n",
    "def display(image):\n",
    "    # If there is only one channel to show, display it as grayscale\n",
    "    cm = None\n",
    "    if(len(image.shape)) == 2:\n",
    "        cm = \"gray\"\n",
    "    plt.figure(figsize = (5, 10))\n",
    "    plt.imshow(image, cmap = cm)\n",
    "    plt.xticks([])\n",
    "    plt.yticks([])\n",
    "    plt.show()\n",
    "\n",
    "display(original_image)\n",
    "r = original_image[:, :, 0]\n",
    "display(r)"
   ]
  },
  {
   "cell_type": "markdown",
   "metadata": {},
   "source": [
    "**Convolution** means taking a special square matrix (usually 3x3 or 5x5), called a **convolution kernel** and applying it to the image like this: the central pixel of the resulting image is the sum of element-wise products between the image and the kernel:\n",
    "![Convolution example](convolution.png)\n",
    "\n",
    "After that, the kernel moves 1px to the right and contiinues. It \"slides\" across the entire image. The edge pixels are a bit problematic but there are several ways to deal with that. The most common way is to copy whatever pixel value happened to be at the border.\n",
    "\n",
    "![Border handling](border.png)\n",
    "\n",
    "The algorithm is always the same. The output depends on the **kernel**. Different kernels produce different results: some detect edges (lines), others detect corners; some apply blurring and sharpening; some remove noise, etc.\n",
    "\n",
    "The results can be useful for analyzing what's on the image, or just for artistic purposes.\n",
    "\n",
    "Let's examine this filter, for example:\n",
    "\n",
    "$$ F = \\begin{bmatrix}\n",
    "1/9 & 1/9 & 1/9 \\\\\n",
    "1/9 & 1/9 & 1/9 \\\\\n",
    "1/9 & 1/9 & 1/9\n",
    "\\end{bmatrix}\n",
    "$$\n",
    "\n",
    "This calculates the average of all surrounding pixels and basically smooths the image.\n",
    "\n",
    "Note that in order to preserve brightness, the sum of all elements in $F$ must be equal to 1. If it's not, the image will be darker or brighter (which may or may not be a desired effect).\n",
    "\n",
    "`scipy.ndimage` has a method for performing 1D and multi-dimensional convolution. Read the docs [here](https://docs.scipy.org/doc/scipy-0.15.1/reference/generated/scipy.ndimage.filters.convolve.html#scipy.ndimage.filters.convolve).\n",
    "\n",
    "Apply the convolution. To see better how it performs, you can plot only a part of the image - this will zoom the entire thing. Compare the \"before\" and \"after\" images."
   ]
  },
  {
   "cell_type": "code",
   "execution_count": null,
   "metadata": {
    "collapsed": true
   },
   "outputs": [],
   "source": [
    "# Write your code here"
   ]
  },
  {
   "cell_type": "markdown",
   "metadata": {},
   "source": [
    "Play around with more kernels (they're also called **filters**). You can find examples on the Internet, or you can create your own. Have fun :).\n",
    "\n",
    "Try these filters:\n",
    "* Gaussian blur\n",
    "* Sobel edge detector - vertical, horizontal\n",
    "* Corner detector\n",
    "* Gradient detector\n",
    "* Sharpening\n",
    "* Unsharp mask\n",
    "\n",
    "For each filter, show the result before and after its application.\n",
    "\n",
    "Sources: <a href=\"https://en.wikipedia.org/wiki/Kernel_(image_processing)\">Wikipedia</a>, [online playground](http://matlabtricks.com/post-5/3x3-convolution-kernels-with-online-demo), [Image Kernels explained visually](http://setosa.io/ev/image-kernels/).\n",
    "\n",
    "**Optional:** Think about you might use edge, corner and gradient detectors in image processing."
   ]
  },
  {
   "cell_type": "code",
   "execution_count": null,
   "metadata": {
    "collapsed": true
   },
   "outputs": [],
   "source": [
    "# Write your code here"
   ]
  },
  {
   "cell_type": "markdown",
   "metadata": {},
   "source": [
    "### ** Problem 5. Classification\n",
    "A type of widely used **models** is **classification**. Regression outputs a continuous value while classification outputs one of several pre-defined classes. In the most simple way, the classes are only two. For example, if we want to detect whether there's a cat on an image, we can have two classes: \"cat\" and \"non-cat\".\n",
    "\n",
    "Explore the problem of classification. Implement and document one algorithm. Apply it to some real-world data. You can use the following checklist:\n",
    "\n",
    "**Note:** If your paper is **about the algorithm**, consider **writing it from scratch**, not reusing it from a library.\n",
    "\n",
    "* What is supervised learning? What do supervised learning models do?\n",
    "* What is regression? What is classification?\n",
    "* What types of problems does classification solve directly?\n",
    "    * What types of problems can be reduced to classification?\n",
    "* What's the difference between two-class and multi-class classification?\n",
    "* Explore one algorithm for classification, e.g. logistic regression.\n",
    "    * State the problem clearly\n",
    "    * List all sssumptions of the modelling function\n",
    "    * Describe the process: distances, error function, total loss, gradient descent, etc.; as needed\n",
    "    * Implement the algorithm from scratch\n",
    "* Select or generate a small dataset, suitable for classification. Run your algorithm as a sanity check\n",
    "* Debug and solve any problems\n",
    "* Waht is a confusion matrix?\n",
    "* What metrics are used to score a classifier?\n",
    "    * Accuracy, Precision, Recall, others\n",
    "    * ROC curve, interpretation\n",
    "* Select a real dataset\n",
    "    * Explore it to get acquainted with what information it contains\n",
    "    * Clean up the data if you need to do so\n",
    "    * Perform classification\n",
    "    * Score your classification model\n",
    "    * Use your classifier to predict\n",
    "        * Split the data into training and testing set\n",
    "        * Optionally, perform **cross-validation**\n",
    "    * Compare your implementation to another one, e.g. `scikit-learn`. They should give the same (or very similar) results\n",
    "    * Communicate the results on your dataset\n",
    "    * Optionally, publish your model on the Internet as a Web API"
   ]
  },
  {
   "cell_type": "markdown",
   "metadata": {},
   "source": [
    "### ** Problem 6. Fourier Transform Applications: Images\n",
    "Examine how Fourier transform is used in image processing. Consider writing the algorithms for transformation (forward and inverse) from scratch.\n",
    "\n",
    "You may look at other transformations as well, for example, the **cosine transform** (used in JPEG images to achieve compression) or **wavelet transform**. You can use the following checklist:\n",
    "\n",
    "* What is Fourier transformation? What information does it provide?\n",
    "    * What do the forward and inverse transformation do? What are their inputs and outputs?\n",
    "    * How do we interpret the results (\"time domain\" / \"frequency domain\")?\n",
    "        * What does this mean in 2D? How does a 1D spectrum differ from a 2D spectrum?\n",
    "        * What are the characteristic parts of a 2D spectrum?\n",
    "    * Give some examples of well-known functions and their transformations\n",
    "* What is Discrete Fourier Transform (DFT)?\n",
    "    * Implement the algorithm in 2D\n",
    "* How do we use DFT in image processing?\n",
    "    * Provide examples\n",
    "* Select an image and perform operations on it using your implementation of DFT\n",
    "    * Low-pass filtering\n",
    "    * High-pass filtering\n",
    "    * Finding and removal of periodic component from an image\n",
    "    * Fnding and removal of peaks\n",
    "    * Shape analysis\n",
    "* How do convolutions relate to DFT?\n",
    "    \n",
    "[This document](http://www.robots.ox.ac.uk/~az/lectures/ia/lect2.pdf), [this document](http://research.stowers.org/mcm/efg/Report/FourierAnalysis.pdf), and many others provide a good starting point. You can find a lot of examples in digital image processing and art using Fourier transformations."
   ]
  }
 ],
 "metadata": {
  "kernelspec": {
   "display_name": "Python 3 (ipykernel)",
   "language": "python",
   "name": "python3"
  },
  "language_info": {
   "codemirror_mode": {
    "name": "ipython",
    "version": 3
   },
   "file_extension": ".py",
   "mimetype": "text/x-python",
   "name": "python",
   "nbconvert_exporter": "python",
   "pygments_lexer": "ipython3",
   "version": "3.9.7"
  }
 },
 "nbformat": 4,
 "nbformat_minor": 2
}
